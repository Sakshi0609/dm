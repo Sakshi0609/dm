{
 "cells": [
  {
   "cell_type": "code",
   "execution_count": 1,
   "id": "fe241b29-9926-4b6b-905f-585785dfa2e5",
   "metadata": {},
   "outputs": [
    {
     "name": "stdout",
     "output_type": "stream",
     "text": [
      "[(6.0, 10, 60), (5.0, 20, 100), (4.0, 30, 120)]\n",
      "Maximum value: 240.0\n"
     ]
    }
   ],
   "source": [
    "\n",
    "\n",
    "\n",
    "# Function to get maximum value for given knapsack capacity\n",
    "def fractional_knapsack(weights, values, capacity):\n",
    "    # Calculate value per weight for each item and sort in descending order\n",
    "    items = sorted([(values[i] / weights[i], weights[i], values[i]) for i in range(len(weights))], reverse=True)\n",
    "    \n",
    "    print(items)\n",
    "\n",
    "    max_value = 0  # Maximum value that can be obtained\n",
    "    for value_per_weight, weight, value in items:\n",
    "        if capacity >= weight:\n",
    "            # Take the full item if capacity allows\n",
    "            capacity -= weight\n",
    "            max_value += value\n",
    "        else:\n",
    "            # Take a fraction of the item if not enough capacity\n",
    "            max_value += value_per_weight * capacity\n",
    "            break  # Knapsack is full\n",
    "\n",
    "    return max_value\n",
    "\n",
    "# Example usage\n",
    "weights = [10, 20, 30]\n",
    "values = [60, 100, 120]\n",
    "capacity = 50\n",
    "print(\"Maximum value:\", fractional_knapsack(weights, values, capacity))\n"
   ]
  },
  {
   "cell_type": "code",
   "execution_count": null,
   "id": "66e3f8c3-c2a8-4d90-a844-b3d5b7be0a05",
   "metadata": {},
   "outputs": [],
   "source": []
  }
 ],
 "metadata": {
  "kernelspec": {
   "display_name": "Python 3 (ipykernel)",
   "language": "python",
   "name": "python3"
  },
  "language_info": {
   "codemirror_mode": {
    "name": "ipython",
    "version": 3
   },
   "file_extension": ".py",
   "mimetype": "text/x-python",
   "name": "python",
   "nbconvert_exporter": "python",
   "pygments_lexer": "ipython3",
   "version": "3.11.7"
  }
 },
 "nbformat": 4,
 "nbformat_minor": 5
}
