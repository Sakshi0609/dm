{
 "cells": [
  {
   "cell_type": "code",
   "execution_count": 1,
   "id": "e0f72fff-b64d-4593-8647-86bd79783f43",
   "metadata": {},
   "outputs": [
    {
     "name": "stdout",
     "output_type": "stream",
     "text": [
      "[<__main__.Node object at 0x00000222D04EB0D0>, <__main__.Node object at 0x00000222D04EBBD0>, <__main__.Node object at 0x00000222D04E9F10>, <__main__.Node object at 0x00000222D04E9650>, <__main__.Node object at 0x00000222D04E9450>, <__main__.Node object at 0x00000222D04EEED0>]\n",
      "f -> 0\n",
      "c -> 100\n",
      "d -> 101\n",
      "a -> 1100\n",
      "b -> 1101\n",
      "e -> 111\n"
     ]
    }
   ],
   "source": [
    "\n",
    "\n",
    "\n",
    "import heapq\n",
    "\n",
    "# Node class to represent each character and frequency in the Huffman Tree\n",
    "class Node:\n",
    "    def __init__(self, freq, symbol, left=None, right=None):\n",
    "        self.freq = freq\n",
    "        self.symbol = symbol\n",
    "        self.left = left\n",
    "        self.right = right\n",
    "\n",
    "    def __lt__(self, other):\n",
    "        return self.freq < other.freq\n",
    "\n",
    "# Function to print Huffman Codes for each character\n",
    "def print_codes(node, code=''):\n",
    "    if node is None:\n",
    "        return\n",
    "    \n",
    "    # If it's a leaf node, print the symbol and its code\n",
    "    if node.left is None and node.right is None:\n",
    "        print(f\"{node.symbol} -> {code}\")\n",
    "        return\n",
    "    \n",
    "    # Traverse the left and right subtrees with updated codes\n",
    "    print_codes(node.left, code + '0')\n",
    "    print_codes(node.right, code + '1')\n",
    "\n",
    "# Main function to build Huffman Tree and display codes\n",
    "def huffman_encoding(chars, freqs):\n",
    "    nodes = [Node(freqs[i], chars[i]) for i in range(len(chars))]\n",
    "    print(nodes)\n",
    "    heapq.heapify(nodes)\n",
    "\n",
    "    while len(nodes) > 1:\n",
    "        left = heapq.heappop(nodes)\n",
    "        right = heapq.heappop(nodes)\n",
    "        new_node = Node(left.freq + right.freq, None, left, right)\n",
    "        heapq.heappush(nodes, new_node)\n",
    "\n",
    "    # Print the codes from the root of the Huffman Tree\n",
    "    print_codes(nodes[0])\n",
    "\n",
    "# Example usage\n",
    "chars = ['a', 'b', 'c', 'd', 'e', 'f']\n",
    "freqs = [5, 9, 12, 13, 16, 45]\n",
    "huffman_encoding(chars, freqs)\n",
    "\n",
    "\n"
   ]
  },
  {
   "cell_type": "code",
   "execution_count": null,
   "id": "2bf85ecd-26f4-40d2-a23d-b8a181bbc29c",
   "metadata": {},
   "outputs": [],
   "source": []
  }
 ],
 "metadata": {
  "kernelspec": {
   "display_name": "Python 3 (ipykernel)",
   "language": "python",
   "name": "python3"
  },
  "language_info": {
   "codemirror_mode": {
    "name": "ipython",
    "version": 3
   },
   "file_extension": ".py",
   "mimetype": "text/x-python",
   "name": "python",
   "nbconvert_exporter": "python",
   "pygments_lexer": "ipython3",
   "version": "3.11.7"
  }
 },
 "nbformat": 4,
 "nbformat_minor": 5
}
