{
 "cells": [
  {
   "cell_type": "code",
   "execution_count": 7,
   "id": "969df5c3-9966-4fd8-aa08-17d64d7e7b86",
   "metadata": {},
   "outputs": [
    {
     "name": "stdout",
     "output_type": "stream",
     "text": [
      "1 0 0 0 0 0 0 0\n",
      "0 0 0 0 1 0 0 0\n",
      "0 0 0 0 0 0 0 1\n",
      "0 0 0 0 0 1 0 0\n",
      "0 0 1 0 0 0 0 0\n",
      "0 0 0 0 0 0 1 0\n",
      "0 1 0 0 0 0 0 0\n",
      "0 0 0 1 0 0 0 0\n",
      "\n"
     ]
    }
   ],
   "source": [
    "def n_queens(n):\n",
    "    cols, diag1, diag2 = set(), set(), set()  # Track columns and diagonals with queens\n",
    "    solutions = []  # List to store the solutions\n",
    "\n",
    "    # Backtracking function to place queens\n",
    "    def backtrack(row, board):\n",
    "        if row == n:  # If all queens are placed, store the solution\n",
    "            solutions.append([\" \".join(row) for row in board])\n",
    "            return\n",
    "\n",
    "        for col in range(n):  # this line will Try each column in the current row\n",
    "            if col in cols or (row + col) in diag1 or (row - col) in diag2:\n",
    "                continue  # Skip if the position is under attack by any other queen\n",
    "\n",
    "            # Place the queen\n",
    "            cols.add(col)\n",
    "            diag1.add(row + col)\n",
    "            diag2.add(row - col)\n",
    "            board[row][col] = \"1\"  # Mark the queen's position on the board\n",
    "\n",
    "            backtrack(row + 1, board)  # Move to the next row\n",
    "\n",
    "            # Backtrack by removing the queen\n",
    "            cols.remove(col)\n",
    "            diag1.remove(row + col)\n",
    "            diag2.remove(row - col)\n",
    "            board[row][col] = \"0\"  # Reset the position to empty\n",
    "\n",
    "    # Initialize an 8x8 board with the first queen at (0, 0)\n",
    "    board = [[\"0\"] * n for _ in range(n)]\n",
    "    board[0][0] = \"1\"  # Place the first queen\n",
    "\n",
    "    # Update sets for the initial queen's position\n",
    "    cols.add(0)\n",
    "    diag1.add(0 + 0)\n",
    "    diag2.add(0 - 0)\n",
    "\n",
    "    # Start backtracking from the second row\n",
    "    backtrack(1, board)\n",
    "\n",
    "    # Display the solution (print the first found solution if exists)\n",
    "    if solutions:\n",
    "        for row in solutions[0]:\n",
    "            print(row)\n",
    "        print()\n",
    "\n",
    "# Solve the 8-Queens problem with the first queen placed at (0, 0)\n",
    "if __name__ == \"__main__\":\n",
    "    n_queens(8)\n"
   ]
  },
  {
   "cell_type": "code",
   "execution_count": null,
   "id": "12455c92-6442-434d-839d-1e3e5eb4d3e3",
   "metadata": {},
   "outputs": [],
   "source": []
  }
 ],
 "metadata": {
  "kernelspec": {
   "display_name": "Python 3 (ipykernel)",
   "language": "python",
   "name": "python3"
  },
  "language_info": {
   "codemirror_mode": {
    "name": "ipython",
    "version": 3
   },
   "file_extension": ".py",
   "mimetype": "text/x-python",
   "name": "python",
   "nbconvert_exporter": "python",
   "pygments_lexer": "ipython3",
   "version": "3.11.7"
  }
 },
 "nbformat": 4,
 "nbformat_minor": 5
}
