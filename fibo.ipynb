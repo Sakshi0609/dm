{
 "cells": [
  {
   "cell_type": "code",
   "execution_count": 5,
   "id": "8469f158-6f86-4bc9-bf9d-fe989148c0df",
   "metadata": {},
   "outputs": [
    {
     "name": "stdin",
     "output_type": "stream",
     "text": [
      "Enter the Fibonacci number to calculate:  5\n"
     ]
    },
    {
     "name": "stdout",
     "output_type": "stream",
     "text": [
      "Recursive result: 5\n",
      "Steps taken in recursive approach: 15\n",
      "Iterative result: 5\n",
      "Steps taken in iterative approach: 4\n"
     ]
    }
   ],
   "source": [
    "# Recursive Fibonacci with step count\n",
    "def fibonacci_recursive(n, count=0):\n",
    "    # Base case: for n = 0 or n = 1, return the number and increment count by 1\n",
    "    if n <= 1:\n",
    "        return n, count + 1\n",
    "    \n",
    "    # Recursive case: compute Fibonacci for n-1 and n-2, updating the count for each call\n",
    "    fib_n1, count1 = fibonacci_recursive(n - 1, count + 1)\n",
    "    fib_n2, count2 = fibonacci_recursive(n - 2, count1)\n",
    "    return fib_n1 + fib_n2, count2\n",
    "\n",
    "# Iterative Fibonacci with step count\n",
    "def fibonacci_iterative(n):\n",
    "    a, b = 0, 1\n",
    "    count = 0  # Initialize count to track loop iterations\n",
    "    if n == 0:\n",
    "        return a, count + 1  # Single iteration for n=0\n",
    "    elif n == 1:\n",
    "        return b, count + 1  # Single iteration for n=1\n",
    "    for _ in range(2, n + 1):\n",
    "        a, b = b, a + b\n",
    "        count += 1  # Increment count for each loop iteration\n",
    "    return b, count\n",
    "\n",
    "# Main function to calculate Fibonacci and compare approaches\n",
    "def main():\n",
    "    n = int(input(\"Enter the Fibonacci number to calculate: \"))\n",
    "    \n",
    "    # Recursive Fibonacci calculation\n",
    "    fib_recursive, steps_recursive = fibonacci_recursive(n)\n",
    "    print(f\"Recursive result: {fib_recursive}\")\n",
    "    print(f\"Steps taken in recursive approach: {steps_recursive}\")\n",
    "\n",
    "    # Iterative Fibonacci calculation\n",
    "    fib_iterative, steps_iterative = fibonacci_iterative(n)\n",
    "    print(f\"Iterative result: {fib_iterative}\")\n",
    "    print(f\"Steps taken in iterative approach: {steps_iterative}\")\n",
    "\n",
    "if __name__ == \"__main__\":\n",
    "    main()  \n"
   ]
  },
  {
   "cell_type": "code",
   "execution_count": null,
   "id": "5bf8f139-0519-419b-9d15-3999dc6958eb",
   "metadata": {},
   "outputs": [],
   "source": []
  }
 ],
 "metadata": {
  "kernelspec": {
   "display_name": "Python 3 (ipykernel)",
   "language": "python",
   "name": "python3"
  },
  "language_info": {
   "codemirror_mode": {
    "name": "ipython",
    "version": 3
   },
   "file_extension": ".py",
   "mimetype": "text/x-python",
   "name": "python",
   "nbconvert_exporter": "python",
   "pygments_lexer": "ipython3",
   "version": "3.11.7"
  }
 },
 "nbformat": 4,
 "nbformat_minor": 5
}
